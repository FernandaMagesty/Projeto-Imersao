{
  "nbformat": 4,
  "nbformat_minor": 0,
  "metadata": {
    "colab": {
      "provenance": [],
      "authorship_tag": "ABX9TyM1DNYK4RiHAf18cWcK8vF/",
      "include_colab_link": true
    },
    "kernelspec": {
      "name": "python3",
      "display_name": "Python 3"
    },
    "language_info": {
      "name": "python"
    }
  },
  "cells": [
    {
      "cell_type": "markdown",
      "metadata": {
        "id": "view-in-github",
        "colab_type": "text"
      },
      "source": [
        "<a href=\"https://colab.research.google.com/github/FernandaMagesty/Projeto-Imersao/blob/main/Novo_Projeto.ipynb\" target=\"_parent\"><img src=\"https://colab.research.google.com/assets/colab-badge.svg\" alt=\"Open In Colab\"/></a>"
      ]
    },
    {
      "cell_type": "code",
      "execution_count": 27,
      "metadata": {
        "id": "yWV3iLYx8zk0"
      },
      "outputs": [],
      "source": [
        "#Instalando o SDK do Google\n",
        "!pip install -q -U google-generativeai"
      ]
    },
    {
      "cell_type": "code",
      "execution_count": 28,
      "metadata": {
        "id": "IthzwfnAfcsi"
      },
      "outputs": [],
      "source": [
        "#Configurações iniciais\n",
        "import google.generativeai as genai\n",
        "from google.colab import userdata\n",
        "GOOGLE_API_KEY=\"Chave_secreta\"\n",
        "genai.configure(api_key=GOOGLE_API_KEY)"
      ]
    },
    {
      "cell_type": "code",
      "source": [
        "#Listando os modelos disponíveis\n",
        "for m in genai.list_models():\n",
        "  if 'generateContent' in m.supported_generation_methods:\n",
        "    print(m.name)"
      ],
      "metadata": {
        "id": "8VbucmmW_Rir"
      },
      "execution_count": null,
      "outputs": []
    },
    {
      "cell_type": "code",
      "source": [
        "generation_config = {\n",
        "  \"candidate_count\": 1,\n",
        "  \"temperature\": 0.5,\n",
        "}"
      ],
      "metadata": {
        "id": "uFdjvmrDC2zA"
      },
      "execution_count": 31,
      "outputs": []
    },
    {
      "cell_type": "code",
      "source": [
        "safety_settings={\n",
        "    'HATE': 'BLOCK_NONE',\n",
        "    'HARASSMENT': 'BLOCK_NONE',\n",
        "    'SEXUAL' : 'BLOCK_NONE',\n",
        "    'DANGEROUS' : 'BLOCK_NONE'\n",
        "    }"
      ],
      "metadata": {
        "id": "mCGqVH3nC7bX"
      },
      "execution_count": 32,
      "outputs": []
    },
    {
      "cell_type": "code",
      "source": [
        "model = genai.GenerativeModel(model_name='gemini-1.0-pro',\n",
        "                                  generation_config=generation_config,\n",
        "                                  safety_settings=safety_settings,)"
      ],
      "metadata": {
        "id": "WsK7C6X3DjtW"
      },
      "execution_count": null,
      "outputs": []
    },
    {
      "cell_type": "code",
      "source": [
        "response = model.generate_content(\"Quem descobriu o Brasil?\")\n",
        "response.text"
      ],
      "metadata": {
        "id": "7WRwnQKHEa3n"
      },
      "execution_count": null,
      "outputs": []
    },
    {
      "cell_type": "code",
      "source": [
        "chat = model.start_chat(history=[])\n",
        "\n",
        "prompt = input('Descreva seu problema:')\n",
        "\n",
        "while prompt != \"fim\":\n",
        "  response = chat.send_message(prompt)\n",
        "  print(\"Resposta:\", response.text, '\\n\\n')\n",
        "  prompt = input('Descreva seu problema: ')"
      ],
      "metadata": {
        "colab": {
          "base_uri": "https://localhost:8080/",
          "height": 941
        },
        "id": "oylYu3OxFJ78",
        "outputId": "d51e8f37-945f-419d-dc8f-22cd13b7c0e6"
      },
      "execution_count": null,
      "outputs": [
        {
          "output_type": "stream",
          "name": "stdout",
          "text": [
            "Descreva seu problema:meu computador esta reiniciando\n",
            "Resposta: **Possíveis causas e soluções para reinicializações aleatórias do computador:**\n",
            "\n",
            "**1. Superaquecimento:**\n",
            "* Verifique se as aberturas de ventilação do computador estão desobstruídas.\n",
            "* Limpe as ventoinhas e dissipadores de calor de poeira e detritos.\n",
            "* Considere adicionar ventiladores adicionais ou melhorar o fluxo de ar.\n",
            "\n",
            "**2. Fonte de alimentação defeituosa:**\n",
            "* Verifique se a fonte de alimentação está fornecendo voltagem suficiente.\n",
            "* Substitua a fonte de alimentação se necessário.\n",
            "\n",
            "**3. Memória RAM com defeito:**\n",
            "* Execute um teste de memória (por exemplo, MemTest86) para identificar módulos de RAM defeituosos.\n",
            "* Substitua os módulos de RAM defeituosos.\n",
            "\n",
            "**4. Disco rígido com defeito:**\n",
            "* Execute o utilitário CHKDSK para verificar e reparar erros no disco rígido.\n",
            "* Substitua o disco rígido se necessário.\n",
            "\n",
            "**5. Drivers desatualizados ou corrompidos:**\n",
            "* Verifique se todos os drivers do computador estão atualizados.\n",
            "* Desinstale e reinstale os drivers que podem estar causando problemas.\n",
            "\n",
            "**6. Malware:**\n",
            "* Execute uma verificação de malware para detectar e remover qualquer infecção.\n",
            "* Use um software antivírus atualizado.\n",
            "\n",
            "**7. Configurações de BIOS:**\n",
            "* Verifique se as configurações de BIOS estão corretas, especialmente as relacionadas à inicialização e gerenciamento de energia.\n",
            "* Redefina as configurações de BIOS para os padrões de fábrica.\n",
            "\n",
            "**8. Outros problemas de hardware:**\n",
            "* Verifique se todos os componentes de hardware estão conectados corretamente.\n",
            "* Teste componentes individuais, como placa-mãe, placa gráfica e processador.\n",
            "\n",
            "**9. Problemas de software:**\n",
            "* Verifique se o sistema operacional está atualizado.\n",
            "* Execute uma restauração do sistema ou reinstale o sistema operacional se necessário.\n",
            "\n",
            "**10. Interferência elétrica:**\n",
            "* Desconecte todos os dispositivos periféricos e reinicie o computador.\n",
            "* Verifique se o computador está conectado a uma tomada aterrada.\n",
            "\n",
            "**Dicas adicionais:**\n",
            "\n",
            "* Monitore a temperatura do computador usando um software de monitoramento.\n",
            "* Use um protetor contra surtos para proteger o computador de picos de energia.\n",
            "* Faça backup de seus dados regularmente para evitar perda de dados em caso de falha do computador. \n",
            "\n",
            "\n"
          ]
        }
      ]
    },
    {
      "cell_type": "code",
      "source": [
        "#Melhorando a visualização\n",
        "#Código disponível em https://ai.google.dev/tutorials/python_quickstart#import_packages\n",
        "import textwrap\n",
        "from IPython.display import display\n",
        "from IPython.display import Markdown\n",
        "\n",
        "def to_markdown(text):\n",
        "  text = text.replace('•', '  *')\n",
        "  return Markdown(textwrap.indent(text, '> ', predicate=lambda _: True))\n",
        "\n",
        "#Imprimindo o histórico\n",
        "for message in chat.history:\n",
        "  display(to_markdown(f'**{message.role}**: {message.parts[0].text}'))\n",
        "  print('-------------------------------------------')"
      ],
      "metadata": {
        "id": "0LVzdLdIHeej"
      },
      "execution_count": null,
      "outputs": []
    }
  ]
}